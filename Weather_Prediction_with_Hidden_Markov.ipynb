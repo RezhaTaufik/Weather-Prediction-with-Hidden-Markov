{
  "nbformat": 4,
  "nbformat_minor": 0,
  "metadata": {
    "colab": {
      "provenance": [],
      "authorship_tag": "ABX9TyP4GmEIeqc6T783sa/Awttt"
    },
    "kernelspec": {
      "name": "python3",
      "display_name": "Python 3"
    },
    "language_info": {
      "name": "python"
    }
  },
  "cells": [
    {
      "cell_type": "markdown",
      "source": [
        "Clustering adalah teknik untuk Grouping Data Points. Cluster akan menggabungkan data poin ke setiap grup yang memiliki keunikan yang sama. setiap grup akan memiliki Centroids dan akan diletakkan ditengah tengah data points. Semakin ke tengah Centroids maka Cluster semakin bagus. ketika centroids belum ketengah kali, reassign it again until its in the direct center. Algoritma yand digunakan adalah K-Means"
      ],
      "metadata": {
        "id": "-_PF6LxULT2x"
      }
    },
    {
      "cell_type": "markdown",
      "source": [
        "**Hidden Markov Models**\n",
        "\n",
        "Hidden Markov digunakan untuk PREDICT future events based on past events dan bekerja dengan Probabilitas (Probability Distributions). contohnya Cuaca\n",
        "\n",
        "State : Keadaan akan sesuatu, ex : hari ini \"panas\", \"dingin\" \"lembab\". state tidak akan terlalu diamati\n",
        "\n",
        "Observations : Output dari state berdasarkan Probability Distribution. ex : Pada hari yang cerah Rezha memiliki kemungkinan 80% untuk bahagia dan 20% sedih\n",
        "\n",
        "Transitions : Setiap state akan memiliki kemungkinan untuk memprediksi apa yang akan terjadi selanjutnya, ex : hari yang panas memiliki kemungkinan 30% dimana besoknya akan hujan dan begitu sebaliknya.\n"
      ],
      "metadata": {
        "id": "JwITKsqXMELo"
      }
    },
    {
      "cell_type": "code",
      "execution_count": 1,
      "metadata": {
        "colab": {
          "base_uri": "https://localhost:8080/"
        },
        "id": "DAoCP022LRKO",
        "outputId": "c7518909-b633-4cab-fd43-b872be578c63"
      },
      "outputs": [
        {
          "output_type": "stream",
          "name": "stdout",
          "text": [
            "Colab only includes TensorFlow 2.x; %tensorflow_version has no effect.\n"
          ]
        }
      ],
      "source": [
        "%tensorflow_version 2.x"
      ]
    },
    {
      "cell_type": "code",
      "source": [
        "import tensorflow_probability as tfp\n",
        "import tensorflow as tf "
      ],
      "metadata": {
        "id": "q6IZIVU-OjDk"
      },
      "execution_count": 2,
      "outputs": []
    },
    {
      "cell_type": "markdown",
      "source": [
        "Info : \n",
        "\n",
        "1. Cold Days = 0, Hot Days = 1\n",
        "2. Hari pertama di urutan memiliki 80% kemungkinan untuk hari dingin \n",
        "3. Hari dingin memiliki 30% kemungkinan diikuti oleh hari yg panas (esoknya)\n",
        "4. Hari Panas memiliki 20% kemungkinan diikuti oleh hari yg dingin (esoknya)\n",
        "5. Pada setiap hari normalnya temperatur di distribusikan dengan mean dNan standard deviation 0 dan 5 pada hari dingin, dan 15 dan 10 untuk hari panas.\n",
        "\n",
        "Standard Deviation adalah \"Range of Expected Values\" "
      ],
      "metadata": {
        "id": "iyq3GVI6RIK8"
      }
    },
    {
      "cell_type": "code",
      "source": [
        "tfd = tfp.distributions # singkatan\n",
        "initial_distribution = tfd.Categorical(probs=[0.8,0.2]) # untuk poin kedua\n",
        "transition_distribution = tfd.Categorical([[0.7, 0.3],\n",
        "                                          [0.8, 0.2]]) # untuk poin ketiga dan keempat \n",
        "observation_distribution = tfd.Normal(loc=[0.,15.], scale=[5., 10.]) # untuk poin kelima\n",
        "\n",
        "# loc digunakan untuk mean dan standard deviation "
      ],
      "metadata": {
        "id": "3_17cDSBRHuM"
      },
      "execution_count": 7,
      "outputs": []
    },
    {
      "cell_type": "code",
      "source": [
        "model = tfd.HiddenMarkovModel(\n",
        "    initial_distribution = initial_distribution,\n",
        "    transition_distribution = transition_distribution,\n",
        "    observation_distribution = observation_distribution,\n",
        "    num_steps = 7\n",
        ") # num_steps = 7 karena kita akan memprediksi untuk 7 hari sesuai dengan banyaknya hari "
      ],
      "metadata": {
        "id": "LbRrOyOGUi0p"
      },
      "execution_count": 8,
      "outputs": []
    },
    {
      "cell_type": "code",
      "source": [
        "mean = model.mean()\n",
        "\n",
        "with tf.compat.v1.Session() as sess:\n",
        "  print(mean.numpy())"
      ],
      "metadata": {
        "colab": {
          "base_uri": "https://localhost:8080/"
        },
        "id": "dKykuvWmV5T5",
        "outputId": "e0fa1b27-9789-4040-c620-e660b7d02e06"
      },
      "execution_count": 10,
      "outputs": [
        {
          "output_type": "stream",
          "name": "stdout",
          "text": [
            "[3.        5.878779  5.743566  5.7499166 5.7496185 5.749633  5.7496314]\n"
          ]
        }
      ]
    },
    {
      "cell_type": "markdown",
      "source": [
        "  Diatas adalah output expected untuk temperatur pada hari yang akan datang\n",
        "  "
      ],
      "metadata": {
        "id": "Bq9blzVGXvDR"
      }
    },
    {
      "cell_type": "markdown",
      "source": [],
      "metadata": {
        "id": "iEEKxY1zXvBY"
      }
    }
  ]
}